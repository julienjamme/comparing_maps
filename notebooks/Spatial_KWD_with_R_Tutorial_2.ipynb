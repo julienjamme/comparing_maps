{
  "nbformat": 4,
  "nbformat_minor": 0,
  "metadata": {
    "colab": {
      "name": "Spatial_KWD_with_R_Tutorial_2.ipynb",
      "provenance": [],
      "include_colab_link": true
    },
    "kernelspec": {
      "name": "ir",
      "display_name": "R"
    }
  },
  "cells": [
    {
      "cell_type": "markdown",
      "metadata": {
        "id": "view-in-github",
        "colab_type": "text"
      },
      "source": [
        "<a href=\"https://colab.research.google.com/github/julienjamme/comparing_maps/blob/main/notebooks/Spatial_KWD_with_R_Tutorial_2.ipynb\" target=\"_parent\"><img src=\"https://colab.research.google.com/assets/colab-badge.svg\" alt=\"Open In Colab\"/></a>"
      ]
    },
    {
      "cell_type": "markdown",
      "metadata": {
        "id": "eHzoYzu7mAkg"
      },
      "source": [
        "# Using the Spatial-KWD with R\n",
        "This notebook shows how to use the Spatial-KWD library within the [R programming language](https://www.r-project.org/).\n",
        "\n",
        "To run this notebook in Google Colab, please, be sure that the from the menu of this notebook, under *Runtime->Change Runtime type->..* the runtime is set to **R** so that you can execute the **R** scripts of this notebook.\n",
        "\n",
        "The source code of the library is freely available on GitHub at [Eurostat/Spatial-KWD](https://github.com/eurostat/Spatial-KWD).\n"
      ]
    },
    {
      "cell_type": "markdown",
      "metadata": {
        "id": "X7fYx5ISmoXA"
      },
      "source": [
        "### Prerequisities\n",
        "The only requirement for compiling the Spatial-KWD library is the R package [Rcpp](https://cran.r-project.org/web/packages/Rcpp/index.html), which can be installed with the following command."
      ]
    },
    {
      "cell_type": "code",
      "metadata": {
        "id": "Rwyg5o-0k6a5",
        "outputId": "a3982499-eca9-40e8-afb5-0faddb9103df",
        "colab": {
          "base_uri": "https://localhost:8080/"
        }
      },
      "source": [
        "install.packages(\"Rcpp\", repos='http://cran.us.r-project.org')"
      ],
      "execution_count": 1,
      "outputs": [
        {
          "output_type": "stream",
          "name": "stderr",
          "text": [
            "Installing package into ‘/usr/local/lib/R/site-library’\n",
            "(as ‘lib’ is unspecified)\n",
            "\n"
          ]
        }
      ]
    },
    {
      "cell_type": "markdown",
      "metadata": {
        "id": "cQc4hdJZm4et"
      },
      "source": [
        "### Install the R library from CRAN\n",
        "The official release of **SpatialKWD** is available from [CRAN](https://cran.r-project.org/web/checks/check_results_SpatialKWD.html), and it can installed with the following command:"
      ]
    },
    {
      "cell_type": "code",
      "metadata": {
        "id": "dWCBM9SnlD2w",
        "outputId": "d858a563-f43c-4c27-ff86-3c99c1e8a9db",
        "colab": {
          "base_uri": "https://localhost:8080/"
        }
      },
      "source": [
        "install.packages(\"SpatialKWD\")"
      ],
      "execution_count": 2,
      "outputs": [
        {
          "output_type": "stream",
          "name": "stderr",
          "text": [
            "Installing package into ‘/usr/local/lib/R/site-library’\n",
            "(as ‘lib’ is unspecified)\n",
            "\n"
          ]
        }
      ]
    },
    {
      "cell_type": "markdown",
      "metadata": {
        "id": "ABE9TT_LO6N9"
      },
      "source": [
        "## Example: Passing input data via matrices\n",
        "Once you have installed the Spatial-KWD library, you can run the following script to compute the KW-distance between a pair of histograms stored in two matrices.\n",
        "\n",
        "The main helper functions are:\n",
        "\n",
        "* `compareOneToOne`\n",
        "* `compareOneToMany`\n",
        "* `compareAll`\n",
        "* `focusaArea`\n",
        "\n",
        "To see the manual run `help(compareOneToOne)`. Note that on Colab the manual is not correctly formatted, but if you use the **SpatialKWD** library in RStudio, everything will be as expected.\n"
      ]
    },
    {
      "cell_type": "code",
      "metadata": {
        "id": "jPqrrJIcFqc7"
      },
      "source": [
        "library(SpatialKWD)\n",
        "help(compareOneToOne)"
      ],
      "execution_count": 3,
      "outputs": []
    },
    {
      "cell_type": "code",
      "metadata": {
        "id": "ZMQDI__dPmCI",
        "outputId": "1571101d-be68-4d90-dd1c-08b4d7090b9a",
        "colab": {
          "base_uri": "https://localhost:8080/"
        }
      },
      "source": [
        "# Random coordinates\n",
        "set.seed(4081789)\n",
        "N = 900\n",
        "Xs <- 5*as.integer(runif(N, 0, 31))\n",
        "Ys <- 5*as.integer(runif(N, 0, 31))\n",
        "coordinates <- matrix(c(Xs, Ys), ncol=2)\n",
        "\n",
        "# Random weights\n",
        "test1 <- matrix(runif(2*N, 0, 1), ncol=2)\n",
        "m <- 3\n",
        "test2 <- matrix(runif((m+1)*N, 0, 1), ncol=(m+1))\n",
        "test3 <- matrix(runif(m*N, 0, 1), ncol=m)\n",
        "\n",
        "# Compute distance\n",
        "print(\"Compare one-to-one with exact algorithm:\")\n",
        "d <- compareOneToOne(coordinates, Weights=test1, method=\"exact\", recode=TRUE, verbosity = \"info\")\n",
        "cat(\"runtime:\", d$runtime, \" distance:\", d$distance, \" nodes:\", d$nodes, \" arcs:\", d$arcs, \"\\n\")\n",
        "\n",
        "print(\"Compare one-to-one with approximate algorithm:\")\n",
        "d <- compareOneToOne(coordinates, Weights=test1, L=2, recode=TRUE)\n",
        "cat(\"L: 2, runtime:\", d$runtime, \" distance:\", d$distance, \" nodes:\", d$nodes, \" arcs:\", d$arcs, \"\\n\")\n",
        "\n",
        "d <- compareOneToOne(coordinates, Weights=test1, L=3)\n",
        "cat(\"L: 3 runtime:\", d$runtime, \" distance:\", d$distance, \"\\n\")"
      ],
      "execution_count": 4,
      "outputs": [
        {
          "output_type": "stream",
          "name": "stdout",
          "text": [
            "[1] \"Compare one-to-one with exact algorithm:\"\n",
            "CompareOneToOne, Solution method: EXACT\n",
            "WARNING: the Xs input coordinates are not consecutives integers.\n",
            "WARNING: the Ys input coordinates are not consecutives integers.\n",
            "INFO: Recoding the input coordinates to consecutive integers.\n",
            "Internal parameters: exact mincostflow colgen info 14400.000 0.000001 true 0 179769313486231570814527423731704356798070567525844996598917476803157260780028538760589558632766878171540458953514382464234321326889464182768467546703537516986049910576551282076245490090389328944075868508455133942304583236903222948165808559332123348274797826204144723168738177180919299881250404026184124858368.0, 1\n",
            "INFO: change <timelimit> to 14400.000000\n",
            "INFO: change <verbosity> to info\n",
            "INFO: change <opt_tolerance> to 0.000001\n",
            "runtime: 0.224  distance: 0.7667916  nodes: 956  arcs: 1906 \n",
            "[1] \"Compare one-to-one with approximate algorithm:\"\n",
            "CompareOneToOne, Solution method: APPROX\n",
            "WARNING: the Xs input coordinates are not consecutives integers.\n",
            "WARNING: the Ys input coordinates are not consecutives integers.\n",
            "INFO: Recoding the input coordinates to consecutive integers.\n",
            "INFO: change <timelimit> to 14400.000000\n",
            "INFO: change <verbosity> to silent\n",
            "INFO: change <opt_tolerance> to 0.000001\n",
            "L: 2, runtime: 0.014  distance: 0.7733159  nodes: 956  arcs: 1392 \n",
            "CompareOneToOne, Solution method: APPROX\n",
            "WARNING: the Xs input coordinates are not consecutives integers.\n",
            "WARNING: the Ys input coordinates are not consecutives integers.\n",
            "INFO: Recoding the input coordinates to consecutive integers.\n",
            "INFO: change <timelimit> to 14400.000000\n",
            "INFO: change <verbosity> to silent\n",
            "INFO: change <opt_tolerance> to 0.000001\n",
            "L: 3 runtime: 0.015  distance: 0.7686763 \n"
          ]
        }
      ]
    },
    {
      "cell_type": "markdown",
      "source": [
        "## test 4 : Result for two identical maps\n",
        "\n",
        "Expected: a null distance"
      ],
      "metadata": {
        "id": "5dLaiSjCNst5"
      }
    },
    {
      "cell_type": "code",
      "source": [
        "run_test <- function(coords, tests, verbose = TRUE){\n",
        "  d_exact <- compareOneToOne(coords, Weights=tests, method=\"exact\", recode=TRUE, verbosity = \"silent\")\n",
        "  d_approx <- compareOneToOne(coords, Weights=tests, method=\"approx\", recode=TRUE, verbosity = \"silent\")\n",
        "  if(verbose) cat(\"result of exact method:\", d_exact$distance, \"\\nresult of approx method:\", d_approx$distance)\n",
        "  return(data.frame(dist_exact = d_exact$distance, dist_approx = d_approx$distance))\n",
        "}"
      ],
      "metadata": {
        "id": "uo1KDqtoT9Wg"
      },
      "execution_count": 5,
      "outputs": []
    },
    {
      "cell_type": "code",
      "source": [
        "coordinates <- matrix(c(Xs, Ys), ncol=2)\n",
        "test4 <- matrix(rep(runif(N, 0, 1),2), ncol=2)\n",
        "\n",
        "res <- suppressMessages({run_test(coordinates, test4)})\n",
        "res\n"
      ],
      "metadata": {
        "id": "OOy9vbLHT1RL",
        "outputId": "d26e47a1-33b4-454d-d004-5679e152a712",
        "colab": {
          "base_uri": "https://localhost:8080/",
          "height": 415
        }
      },
      "execution_count": 6,
      "outputs": [
        {
          "output_type": "stream",
          "name": "stdout",
          "text": [
            "CompareOneToOne, Solution method: EXACT\n",
            "WARNING: the Xs input coordinates are not consecutives integers.\n",
            "WARNING: the Ys input coordinates are not consecutives integers.\n",
            "INFO: Recoding the input coordinates to consecutive integers.\n",
            "INFO: change <timelimit> to 14400.000000\n",
            "INFO: change <verbosity> to silent\n",
            "INFO: change <opt_tolerance> to 0.000001\n",
            "CompareOneToOne, Solution method: APPROX\n",
            "WARNING: the Xs input coordinates are not consecutives integers.\n",
            "WARNING: the Ys input coordinates are not consecutives integers.\n",
            "INFO: Recoding the input coordinates to consecutive integers.\n",
            "INFO: change <timelimit> to 14400.000000\n",
            "INFO: change <verbosity> to silent\n",
            "INFO: change <opt_tolerance> to 0.000001\n",
            "result of exact method: 0 \n",
            "result of approx method: 0"
          ]
        },
        {
          "output_type": "display_data",
          "data": {
            "text/html": [
              "<table class=\"dataframe\">\n",
              "<caption>A data.frame: 1 × 2</caption>\n",
              "<thead>\n",
              "\t<tr><th scope=col>dist_exact</th><th scope=col>dist_approx</th></tr>\n",
              "\t<tr><th scope=col>&lt;dbl&gt;</th><th scope=col>&lt;dbl&gt;</th></tr>\n",
              "</thead>\n",
              "<tbody>\n",
              "\t<tr><td>0</td><td>0</td></tr>\n",
              "</tbody>\n",
              "</table>\n"
            ],
            "text/markdown": "\nA data.frame: 1 × 2\n\n| dist_exact &lt;dbl&gt; | dist_approx &lt;dbl&gt; |\n|---|---|\n| 0 | 0 |\n\n",
            "text/latex": "A data.frame: 1 × 2\n\\begin{tabular}{ll}\n dist\\_exact & dist\\_approx\\\\\n <dbl> & <dbl>\\\\\n\\hline\n\t 0 & 0\\\\\n\\end{tabular}\n",
            "text/plain": [
              "  dist_exact dist_approx\n",
              "1 0          0          "
            ]
          },
          "metadata": {}
        }
      ]
    },
    {
      "cell_type": "code",
      "source": [
        "run_simul_test4 <- function(Nsim){\n",
        "  test4 <- matrix(rep(runif(N, 0, 1),2), ncol=2)\n",
        "  res <- purrr::map_dfr(1:Nsim, \\(i) run_test(coords=coordinates, tests=test4, verbose = FALSE))\n",
        "  return(list(mean = apply(res, 2, mean), sd = apply(res, 2, sd)))\n",
        "}"
      ],
      "metadata": {
        "id": "AAY2hdLCUJ3e"
      },
      "execution_count": 7,
      "outputs": []
    },
    {
      "cell_type": "code",
      "source": [
        "res_sim_test4 <- run_simul_test4(10)"
      ],
      "metadata": {
        "id": "s52c_x1oPC5W",
        "outputId": "3d716e21-2a8e-41d2-da2b-1337fad4a7de",
        "colab": {
          "base_uri": "https://localhost:8080/"
        }
      },
      "execution_count": 8,
      "outputs": [
        {
          "output_type": "stream",
          "name": "stdout",
          "text": [
            "CompareOneToOne, Solution method: EXACT\n",
            "WARNING: the Xs input coordinates are not consecutives integers.\n",
            "WARNING: the Ys input coordinates are not consecutives integers.\n",
            "INFO: Recoding the input coordinates to consecutive integers.\n",
            "INFO: change <timelimit> to 14400.000000\n",
            "INFO: change <verbosity> to silent\n",
            "INFO: change <opt_tolerance> to 0.000001\n",
            "CompareOneToOne, Solution method: APPROX\n",
            "WARNING: the Xs input coordinates are not consecutives integers.\n",
            "WARNING: the Ys input coordinates are not consecutives integers.\n",
            "INFO: Recoding the input coordinates to consecutive integers.\n",
            "INFO: change <timelimit> to 14400.000000\n",
            "INFO: change <verbosity> to silent\n",
            "INFO: change <opt_tolerance> to 0.000001\n",
            "CompareOneToOne, Solution method: EXACT\n",
            "WARNING: the Xs input coordinates are not consecutives integers.\n",
            "WARNING: the Ys input coordinates are not consecutives integers.\n",
            "INFO: Recoding the input coordinates to consecutive integers.\n",
            "INFO: change <timelimit> to 14400.000000\n",
            "INFO: change <verbosity> to silent\n",
            "INFO: change <opt_tolerance> to 0.000001\n",
            "CompareOneToOne, Solution method: APPROX\n",
            "WARNING: the Xs input coordinates are not consecutives integers.\n",
            "WARNING: the Ys input coordinates are not consecutives integers.\n",
            "INFO: Recoding the input coordinates to consecutive integers.\n",
            "INFO: change <timelimit> to 14400.000000\n",
            "INFO: change <verbosity> to silent\n",
            "INFO: change <opt_tolerance> to 0.000001\n",
            "CompareOneToOne, Solution method: EXACT\n",
            "WARNING: the Xs input coordinates are not consecutives integers.\n",
            "WARNING: the Ys input coordinates are not consecutives integers.\n",
            "INFO: Recoding the input coordinates to consecutive integers.\n",
            "INFO: change <timelimit> to 14400.000000\n",
            "INFO: change <verbosity> to silent\n",
            "INFO: change <opt_tolerance> to 0.000001\n",
            "CompareOneToOne, Solution method: APPROX\n",
            "WARNING: the Xs input coordinates are not consecutives integers.\n",
            "WARNING: the Ys input coordinates are not consecutives integers.\n",
            "INFO: Recoding the input coordinates to consecutive integers.\n",
            "INFO: change <timelimit> to 14400.000000\n",
            "INFO: change <verbosity> to silent\n",
            "INFO: change <opt_tolerance> to 0.000001\n",
            "CompareOneToOne, Solution method: EXACT\n",
            "WARNING: the Xs input coordinates are not consecutives integers.\n",
            "WARNING: the Ys input coordinates are not consecutives integers.\n",
            "INFO: Recoding the input coordinates to consecutive integers.\n",
            "INFO: change <timelimit> to 14400.000000\n",
            "INFO: change <verbosity> to silent\n",
            "INFO: change <opt_tolerance> to 0.000001\n",
            "CompareOneToOne, Solution method: APPROX\n",
            "WARNING: the Xs input coordinates are not consecutives integers.\n",
            "WARNING: the Ys input coordinates are not consecutives integers.\n",
            "INFO: Recoding the input coordinates to consecutive integers.\n",
            "INFO: change <timelimit> to 14400.000000\n",
            "INFO: change <verbosity> to silent\n",
            "INFO: change <opt_tolerance> to 0.000001\n",
            "CompareOneToOne, Solution method: EXACT\n",
            "WARNING: the Xs input coordinates are not consecutives integers.\n",
            "WARNING: the Ys input coordinates are not consecutives integers.\n",
            "INFO: Recoding the input coordinates to consecutive integers.\n",
            "INFO: change <timelimit> to 14400.000000\n",
            "INFO: change <verbosity> to silent\n",
            "INFO: change <opt_tolerance> to 0.000001\n",
            "CompareOneToOne, Solution method: APPROX\n",
            "WARNING: the Xs input coordinates are not consecutives integers.\n",
            "WARNING: the Ys input coordinates are not consecutives integers.\n",
            "INFO: Recoding the input coordinates to consecutive integers.\n",
            "INFO: change <timelimit> to 14400.000000\n",
            "INFO: change <verbosity> to silent\n",
            "INFO: change <opt_tolerance> to 0.000001\n",
            "CompareOneToOne, Solution method: EXACT\n",
            "WARNING: the Xs input coordinates are not consecutives integers.\n",
            "WARNING: the Ys input coordinates are not consecutives integers.\n",
            "INFO: Recoding the input coordinates to consecutive integers.\n",
            "INFO: change <timelimit> to 14400.000000\n",
            "INFO: change <verbosity> to silent\n",
            "INFO: change <opt_tolerance> to 0.000001\n",
            "CompareOneToOne, Solution method: APPROX\n",
            "WARNING: the Xs input coordinates are not consecutives integers.\n",
            "WARNING: the Ys input coordinates are not consecutives integers.\n",
            "INFO: Recoding the input coordinates to consecutive integers.\n",
            "INFO: change <timelimit> to 14400.000000\n",
            "INFO: change <verbosity> to silent\n",
            "INFO: change <opt_tolerance> to 0.000001\n",
            "CompareOneToOne, Solution method: EXACT\n",
            "WARNING: the Xs input coordinates are not consecutives integers.\n",
            "WARNING: the Ys input coordinates are not consecutives integers.\n",
            "INFO: Recoding the input coordinates to consecutive integers.\n",
            "INFO: change <timelimit> to 14400.000000\n",
            "INFO: change <verbosity> to silent\n",
            "INFO: change <opt_tolerance> to 0.000001\n",
            "CompareOneToOne, Solution method: APPROX\n",
            "WARNING: the Xs input coordinates are not consecutives integers.\n",
            "WARNING: the Ys input coordinates are not consecutives integers.\n",
            "INFO: Recoding the input coordinates to consecutive integers.\n",
            "INFO: change <timelimit> to 14400.000000\n",
            "INFO: change <verbosity> to silent\n",
            "INFO: change <opt_tolerance> to 0.000001\n",
            "CompareOneToOne, Solution method: EXACT\n",
            "WARNING: the Xs input coordinates are not consecutives integers.\n",
            "WARNING: the Ys input coordinates are not consecutives integers.\n",
            "INFO: Recoding the input coordinates to consecutive integers.\n",
            "INFO: change <timelimit> to 14400.000000\n",
            "INFO: change <verbosity> to silent\n",
            "INFO: change <opt_tolerance> to 0.000001\n",
            "CompareOneToOne, Solution method: APPROX\n",
            "WARNING: the Xs input coordinates are not consecutives integers.\n",
            "WARNING: the Ys input coordinates are not consecutives integers.\n",
            "INFO: Recoding the input coordinates to consecutive integers.\n",
            "INFO: change <timelimit> to 14400.000000\n",
            "INFO: change <verbosity> to silent\n",
            "INFO: change <opt_tolerance> to 0.000001\n",
            "CompareOneToOne, Solution method: EXACT\n",
            "WARNING: the Xs input coordinates are not consecutives integers.\n",
            "WARNING: the Ys input coordinates are not consecutives integers.\n",
            "INFO: Recoding the input coordinates to consecutive integers.\n",
            "INFO: change <timelimit> to 14400.000000\n",
            "INFO: change <verbosity> to silent\n",
            "INFO: change <opt_tolerance> to 0.000001\n",
            "CompareOneToOne, Solution method: APPROX\n",
            "WARNING: the Xs input coordinates are not consecutives integers.\n",
            "WARNING: the Ys input coordinates are not consecutives integers.\n",
            "INFO: Recoding the input coordinates to consecutive integers.\n",
            "INFO: change <timelimit> to 14400.000000\n",
            "INFO: change <verbosity> to silent\n",
            "INFO: change <opt_tolerance> to 0.000001\n",
            "CompareOneToOne, Solution method: EXACT\n",
            "WARNING: the Xs input coordinates are not consecutives integers.\n",
            "WARNING: the Ys input coordinates are not consecutives integers.\n",
            "INFO: Recoding the input coordinates to consecutive integers.\n",
            "INFO: change <timelimit> to 14400.000000\n",
            "INFO: change <verbosity> to silent\n",
            "INFO: change <opt_tolerance> to 0.000001\n",
            "CompareOneToOne, Solution method: APPROX\n",
            "WARNING: the Xs input coordinates are not consecutives integers.\n",
            "WARNING: the Ys input coordinates are not consecutives integers.\n",
            "INFO: Recoding the input coordinates to consecutive integers.\n",
            "INFO: change <timelimit> to 14400.000000\n",
            "INFO: change <verbosity> to silent\n",
            "INFO: change <opt_tolerance> to 0.000001\n"
          ]
        }
      ]
    },
    {
      "cell_type": "code",
      "source": [
        "res_sim_test4"
      ],
      "metadata": {
        "id": "BNtMRVyAbtq4",
        "outputId": "4ffb6775-4342-406d-89ce-c92023746bce",
        "colab": {
          "base_uri": "https://localhost:8080/",
          "height": 114
        }
      },
      "execution_count": 9,
      "outputs": [
        {
          "output_type": "display_data",
          "data": {
            "text/html": [
              "<dl>\n",
              "\t<dt>$mean</dt>\n",
              "\t\t<dd><style>\n",
              ".dl-inline {width: auto; margin:0; padding: 0}\n",
              ".dl-inline>dt, .dl-inline>dd {float: none; width: auto; display: inline-block}\n",
              ".dl-inline>dt::after {content: \":\\0020\"; padding-right: .5ex}\n",
              ".dl-inline>dt:not(:first-of-type) {padding-left: .5ex}\n",
              "</style><dl class=dl-inline><dt>dist_exact</dt><dd>0</dd><dt>dist_approx</dt><dd>0</dd></dl>\n",
              "</dd>\n",
              "\t<dt>$sd</dt>\n",
              "\t\t<dd><style>\n",
              ".dl-inline {width: auto; margin:0; padding: 0}\n",
              ".dl-inline>dt, .dl-inline>dd {float: none; width: auto; display: inline-block}\n",
              ".dl-inline>dt::after {content: \":\\0020\"; padding-right: .5ex}\n",
              ".dl-inline>dt:not(:first-of-type) {padding-left: .5ex}\n",
              "</style><dl class=dl-inline><dt>dist_exact</dt><dd>0</dd><dt>dist_approx</dt><dd>0</dd></dl>\n",
              "</dd>\n",
              "</dl>\n"
            ],
            "text/markdown": "$mean\n:   dist_exact\n:   0dist_approx\n:   0\n\n\n$sd\n:   dist_exact\n:   0dist_approx\n:   0\n\n\n\n\n",
            "text/latex": "\\begin{description}\n\\item[\\$mean] \\begin{description*}\n\\item[dist\\textbackslash{}\\_exact] 0\n\\item[dist\\textbackslash{}\\_approx] 0\n\\end{description*}\n\n\\item[\\$sd] \\begin{description*}\n\\item[dist\\textbackslash{}\\_exact] 0\n\\item[dist\\textbackslash{}\\_approx] 0\n\\end{description*}\n\n\\end{description}\n",
            "text/plain": [
              "$mean\n",
              " dist_exact dist_approx \n",
              "          0           0 \n",
              "\n",
              "$sd\n",
              " dist_exact dist_approx \n",
              "          0           0 \n"
            ]
          },
          "metadata": {}
        }
      ]
    },
    {
      "cell_type": "markdown",
      "source": [
        "## Test 5: compare two maps with same proportions of 1 and x but not equally spatially distributed"
      ],
      "metadata": {
        "id": "0NDemkGWbUv8"
      }
    },
    {
      "cell_type": "code",
      "source": [
        "par(mfrow = c(1,2))\n",
        "image(matrix(c(rep(1,N/2),rep(2,N/2),rep(2,N/2),rep(1,N/2)), ncol=2))"
      ],
      "metadata": {
        "id": "wwHZT7SyfA_4",
        "outputId": "898c4dda-fe6a-439b-c04d-88dcb7d5748b",
        "colab": {
          "base_uri": "https://localhost:8080/",
          "height": 437
        }
      },
      "execution_count": 21,
      "outputs": [
        {
          "output_type": "display_data",
          "data": {
            "text/plain": [
              "plot without title"
            ],
            "image/png": "[encoded data removed]"
          },
          "metadata": {
            "image/png": {
              "width": 420,
              "height": 420
            }
          }
        }
      ]
    },
    {
      "cell_type": "code",
      "source": [
        "library(dplyr)\n",
        "res_test5 <- purrr::map_dfr(\n",
        "  c(seq(0,10,0.5),seq(20,100,10)),\n",
        "  \\(x){\n",
        "    test5 <- matrix(c(rep(1,N/2),rep(x,N/2),rep(x,N/2),rep(1,N/2)), ncol=2)\n",
        "    run_test(coords=coordinates, tests=test5, verbose = FALSE) %>%\n",
        "      mutate(x=x)\n",
        "  }%>%\n",
        "    mutate(across(starts_with(\"dist_\"), list(mean = mean)))\n",
        ")"
      ],
      "metadata": {
        "id": "6pPilBqhNrb5",
        "outputId": "3ebcf320-9140-4e77-ca17-486f566aba8c",
        "colab": {
          "base_uri": "https://localhost:8080/"
        }
      },
      "execution_count": 19,
      "outputs": [
        {
          "output_type": "stream",
          "name": "stdout",
          "text": [
            "CompareOneToOne, Solution method: EXACT\n",
            "WARNING: the Xs input coordinates are not consecutives integers.\n",
            "WARNING: the Ys input coordinates are not consecutives integers.\n",
            "INFO: Recoding the input coordinates to consecutive integers.\n",
            "INFO: change <timelimit> to 14400.000000\n",
            "INFO: change <verbosity> to silent\n",
            "INFO: change <opt_tolerance> to 0.000001\n",
            "CompareOneToOne, Solution method: APPROX\n",
            "WARNING: the Xs input coordinates are not consecutives integers.\n",
            "WARNING: the Ys input coordinates are not consecutives integers.\n",
            "INFO: Recoding the input coordinates to consecutive integers.\n",
            "INFO: change <timelimit> to 14400.000000\n",
            "INFO: change <verbosity> to silent\n",
            "INFO: change <opt_tolerance> to 0.000001\n",
            "CompareOneToOne, Solution method: EXACT\n",
            "WARNING: the Xs input coordinates are not consecutives integers.\n",
            "WARNING: the Ys input coordinates are not consecutives integers.\n",
            "INFO: Recoding the input coordinates to consecutive integers.\n",
            "INFO: change <timelimit> to 14400.000000\n",
            "INFO: change <verbosity> to silent\n",
            "INFO: change <opt_tolerance> to 0.000001\n",
            "CompareOneToOne, Solution method: APPROX\n",
            "WARNING: the Xs input coordinates are not consecutives integers.\n",
            "WARNING: the Ys input coordinates are not consecutives integers.\n",
            "INFO: Recoding the input coordinates to consecutive integers.\n",
            "INFO: change <timelimit> to 14400.000000\n",
            "INFO: change <verbosity> to silent\n",
            "INFO: change <opt_tolerance> to 0.000001\n",
            "CompareOneToOne, Solution method: EXACT\n",
            "WARNING: the Xs input coordinates are not consecutives integers.\n",
            "WARNING: the Ys input coordinates are not consecutives integers.\n",
            "INFO: Recoding the input coordinates to consecutive integers.\n",
            "INFO: change <timelimit> to 14400.000000\n",
            "INFO: change <verbosity> to silent\n",
            "INFO: change <opt_tolerance> to 0.000001\n",
            "CompareOneToOne, Solution method: APPROX\n",
            "WARNING: the Xs input coordinates are not consecutives integers.\n",
            "WARNING: the Ys input coordinates are not consecutives integers.\n",
            "INFO: Recoding the input coordinates to consecutive integers.\n",
            "INFO: change <timelimit> to 14400.000000\n",
            "INFO: change <verbosity> to silent\n",
            "INFO: change <opt_tolerance> to 0.000001\n",
            "CompareOneToOne, Solution method: EXACT\n",
            "WARNING: the Xs input coordinates are not consecutives integers.\n",
            "WARNING: the Ys input coordinates are not consecutives integers.\n",
            "INFO: Recoding the input coordinates to consecutive integers.\n",
            "INFO: change <timelimit> to 14400.000000\n",
            "INFO: change <verbosity> to silent\n",
            "INFO: change <opt_tolerance> to 0.000001\n",
            "CompareOneToOne, Solution method: APPROX\n",
            "WARNING: the Xs input coordinates are not consecutives integers.\n",
            "WARNING: the Ys input coordinates are not consecutives integers.\n",
            "INFO: Recoding the input coordinates to consecutive integers.\n",
            "INFO: change <timelimit> to 14400.000000\n",
            "INFO: change <verbosity> to silent\n",
            "INFO: change <opt_tolerance> to 0.000001\n",
            "CompareOneToOne, Solution method: EXACT\n",
            "WARNING: the Xs input coordinates are not consecutives integers.\n",
            "WARNING: the Ys input coordinates are not consecutives integers.\n",
            "INFO: Recoding the input coordinates to consecutive integers.\n",
            "INFO: change <timelimit> to 14400.000000\n",
            "INFO: change <verbosity> to silent\n",
            "INFO: change <opt_tolerance> to 0.000001\n",
            "CompareOneToOne, Solution method: APPROX\n",
            "WARNING: the Xs input coordinates are not consecutives integers.\n",
            "WARNING: the Ys input coordinates are not consecutives integers.\n",
            "INFO: Recoding the input coordinates to consecutive integers.\n",
            "INFO: change <timelimit> to 14400.000000\n",
            "INFO: change <verbosity> to silent\n",
            "INFO: change <opt_tolerance> to 0.000001\n",
            "CompareOneToOne, Solution method: EXACT\n",
            "WARNING: the Xs input coordinates are not consecutives integers.\n",
            "WARNING: the Ys input coordinates are not consecutives integers.\n",
            "INFO: Recoding the input coordinates to consecutive integers.\n",
            "INFO: change <timelimit> to 14400.000000\n",
            "INFO: change <verbosity> to silent\n",
            "INFO: change <opt_tolerance> to 0.000001\n",
            "CompareOneToOne, Solution method: APPROX\n",
            "WARNING: the Xs input coordinates are not consecutives integers.\n",
            "WARNING: the Ys input coordinates are not consecutives integers.\n",
            "INFO: Recoding the input coordinates to consecutive integers.\n",
            "INFO: change <timelimit> to 14400.000000\n",
            "INFO: change <verbosity> to silent\n",
            "INFO: change <opt_tolerance> to 0.000001\n",
            "CompareOneToOne, Solution method: EXACT\n",
            "WARNING: the Xs input coordinates are not consecutives integers.\n",
            "WARNING: the Ys input coordinates are not consecutives integers.\n",
            "INFO: Recoding the input coordinates to consecutive integers.\n",
            "INFO: change <timelimit> to 14400.000000\n",
            "INFO: change <verbosity> to silent\n",
            "INFO: change <opt_tolerance> to 0.000001\n",
            "CompareOneToOne, Solution method: APPROX\n",
            "WARNING: the Xs input coordinates are not consecutives integers.\n",
            "WARNING: the Ys input coordinates are not consecutives integers.\n",
            "INFO: Recoding the input coordinates to consecutive integers.\n",
            "INFO: change <timelimit> to 14400.000000\n",
            "INFO: change <verbosity> to silent\n",
            "INFO: change <opt_tolerance> to 0.000001\n",
            "CompareOneToOne, Solution method: EXACT\n",
            "WARNING: the Xs input coordinates are not consecutives integers.\n",
            "WARNING: the Ys input coordinates are not consecutives integers.\n",
            "INFO: Recoding the input coordinates to consecutive integers.\n",
            "INFO: change <timelimit> to 14400.000000\n",
            "INFO: change <verbosity> to silent\n",
            "INFO: change <opt_tolerance> to 0.000001\n",
            "CompareOneToOne, Solution method: APPROX\n",
            "WARNING: the Xs input coordinates are not consecutives integers.\n",
            "WARNING: the Ys input coordinates are not consecutives integers.\n",
            "INFO: Recoding the input coordinates to consecutive integers.\n",
            "INFO: change <timelimit> to 14400.000000\n",
            "INFO: change <verbosity> to silent\n",
            "INFO: change <opt_tolerance> to 0.000001\n",
            "CompareOneToOne, Solution method: EXACT\n",
            "WARNING: the Xs input coordinates are not consecutives integers.\n",
            "WARNING: the Ys input coordinates are not consecutives integers.\n",
            "INFO: Recoding the input coordinates to consecutive integers.\n",
            "INFO: change <timelimit> to 14400.000000\n",
            "INFO: change <verbosity> to silent\n",
            "INFO: change <opt_tolerance> to 0.000001\n",
            "CompareOneToOne, Solution method: APPROX\n",
            "WARNING: the Xs input coordinates are not consecutives integers.\n",
            "WARNING: the Ys input coordinates are not consecutives integers.\n",
            "INFO: Recoding the input coordinates to consecutive integers.\n",
            "INFO: change <timelimit> to 14400.000000\n",
            "INFO: change <verbosity> to silent\n",
            "INFO: change <opt_tolerance> to 0.000001\n",
            "CompareOneToOne, Solution method: EXACT\n",
            "WARNING: the Xs input coordinates are not consecutives integers.\n",
            "WARNING: the Ys input coordinates are not consecutives integers.\n",
            "INFO: Recoding the input coordinates to consecutive integers.\n",
            "INFO: change <timelimit> to 14400.000000\n",
            "INFO: change <verbosity> to silent\n",
            "INFO: change <opt_tolerance> to 0.000001\n",
            "CompareOneToOne, Solution method: APPROX\n",
            "WARNING: the Xs input coordinates are not consecutives integers.\n",
            "WARNING: the Ys input coordinates are not consecutives integers.\n",
            "INFO: Recoding the input coordinates to consecutive integers.\n",
            "INFO: change <timelimit> to 14400.000000\n",
            "INFO: change <verbosity> to silent\n",
            "INFO: change <opt_tolerance> to 0.000001\n",
            "CompareOneToOne, Solution method: EXACT\n",
            "WARNING: the Xs input coordinates are not consecutives integers.\n",
            "WARNING: the Ys input coordinates are not consecutives integers.\n",
            "INFO: Recoding the input coordinates to consecutive integers.\n",
            "INFO: change <timelimit> to 14400.000000\n",
            "INFO: change <verbosity> to silent\n",
            "INFO: change <opt_tolerance> to 0.000001\n",
            "CompareOneToOne, Solution method: APPROX\n",
            "WARNING: the Xs input coordinates are not consecutives integers.\n",
            "WARNING: the Ys input coordinates are not consecutives integers.\n",
            "INFO: Recoding the input coordinates to consecutive integers.\n",
            "INFO: change <timelimit> to 14400.000000\n",
            "INFO: change <verbosity> to silent\n",
            "INFO: change <opt_tolerance> to 0.000001\n",
            "CompareOneToOne, Solution method: EXACT\n",
            "WARNING: the Xs input coordinates are not consecutives integers.\n",
            "WARNING: the Ys input coordinates are not consecutives integers.\n",
            "INFO: Recoding the input coordinates to consecutive integers.\n",
            "INFO: change <timelimit> to 14400.000000\n",
            "INFO: change <verbosity> to silent\n",
            "INFO: change <opt_tolerance> to 0.000001\n",
            "CompareOneToOne, Solution method: APPROX\n",
            "WARNING: the Xs input coordinates are not consecutives integers.\n",
            "WARNING: the Ys input coordinates are not consecutives integers.\n",
            "INFO: Recoding the input coordinates to consecutive integers.\n",
            "INFO: change <timelimit> to 14400.000000\n",
            "INFO: change <verbosity> to silent\n",
            "INFO: change <opt_tolerance> to 0.000001\n",
            "CompareOneToOne, Solution method: EXACT\n",
            "WARNING: the Xs input coordinates are not consecutives integers.\n",
            "WARNING: the Ys input coordinates are not consecutives integers.\n",
            "INFO: Recoding the input coordinates to consecutive integers.\n",
            "INFO: change <timelimit> to 14400.000000\n",
            "INFO: change <verbosity> to silent\n",
            "INFO: change <opt_tolerance> to 0.000001\n",
            "CompareOneToOne, Solution method: APPROX\n",
            "WARNING: the Xs input coordinates are not consecutives integers.\n",
            "WARNING: the Ys input coordinates are not consecutives integers.\n",
            "INFO: Recoding the input coordinates to consecutive integers.\n",
            "INFO: change <timelimit> to 14400.000000\n",
            "INFO: change <verbosity> to silent\n",
            "INFO: change <opt_tolerance> to 0.000001\n",
            "CompareOneToOne, Solution method: EXACT\n",
            "WARNING: the Xs input coordinates are not consecutives integers.\n",
            "WARNING: the Ys input coordinates are not consecutives integers.\n",
            "INFO: Recoding the input coordinates to consecutive integers.\n",
            "INFO: change <timelimit> to 14400.000000\n",
            "INFO: change <verbosity> to silent\n",
            "INFO: change <opt_tolerance> to 0.000001\n",
            "CompareOneToOne, Solution method: APPROX\n",
            "WARNING: the Xs input coordinates are not consecutives integers.\n",
            "WARNING: the Ys input coordinates are not consecutives integers.\n",
            "INFO: Recoding the input coordinates to consecutive integers.\n",
            "INFO: change <timelimit> to 14400.000000\n",
            "INFO: change <verbosity> to silent\n",
            "INFO: change <opt_tolerance> to 0.000001\n",
            "CompareOneToOne, Solution method: EXACT\n",
            "WARNING: the Xs input coordinates are not consecutives integers.\n",
            "WARNING: the Ys input coordinates are not consecutives integers.\n",
            "INFO: Recoding the input coordinates to consecutive integers.\n",
            "INFO: change <timelimit> to 14400.000000\n",
            "INFO: change <verbosity> to silent\n",
            "INFO: change <opt_tolerance> to 0.000001\n",
            "CompareOneToOne, Solution method: APPROX\n",
            "WARNING: the Xs input coordinates are not consecutives integers.\n",
            "WARNING: the Ys input coordinates are not consecutives integers.\n",
            "INFO: Recoding the input coordinates to consecutive integers.\n",
            "INFO: change <timelimit> to 14400.000000\n",
            "INFO: change <verbosity> to silent\n",
            "INFO: change <opt_tolerance> to 0.000001\n",
            "CompareOneToOne, Solution method: EXACT\n",
            "WARNING: the Xs input coordinates are not consecutives integers.\n",
            "WARNING: the Ys input coordinates are not consecutives integers.\n",
            "INFO: Recoding the input coordinates to consecutive integers.\n",
            "INFO: change <timelimit> to 14400.000000\n",
            "INFO: change <verbosity> to silent\n",
            "INFO: change <opt_tolerance> to 0.000001\n",
            "CompareOneToOne, Solution method: APPROX\n",
            "WARNING: the Xs input coordinates are not consecutives integers.\n",
            "WARNING: the Ys input coordinates are not consecutives integers.\n",
            "INFO: Recoding the input coordinates to consecutive integers.\n",
            "INFO: change <timelimit> to 14400.000000\n",
            "INFO: change <verbosity> to silent\n",
            "INFO: change <opt_tolerance> to 0.000001\n",
            "CompareOneToOne, Solution method: EXACT\n",
            "WARNING: the Xs input coordinates are not consecutives integers.\n",
            "WARNING: the Ys input coordinates are not consecutives integers.\n",
            "INFO: Recoding the input coordinates to consecutive integers.\n",
            "INFO: change <timelimit> to 14400.000000\n",
            "INFO: change <verbosity> to silent\n",
            "INFO: change <opt_tolerance> to 0.000001\n",
            "CompareOneToOne, Solution method: APPROX\n",
            "WARNING: the Xs input coordinates are not consecutives integers.\n",
            "WARNING: the Ys input coordinates are not consecutives integers.\n",
            "INFO: Recoding the input coordinates to consecutive integers.\n",
            "INFO: change <timelimit> to 14400.000000\n",
            "INFO: change <verbosity> to silent\n",
            "INFO: change <opt_tolerance> to 0.000001\n",
            "CompareOneToOne, Solution method: EXACT\n",
            "WARNING: the Xs input coordinates are not consecutives integers.\n",
            "WARNING: the Ys input coordinates are not consecutives integers.\n",
            "INFO: Recoding the input coordinates to consecutive integers.\n",
            "INFO: change <timelimit> to 14400.000000\n",
            "INFO: change <verbosity> to silent\n",
            "INFO: change <opt_tolerance> to 0.000001\n",
            "CompareOneToOne, Solution method: APPROX\n",
            "WARNING: the Xs input coordinates are not consecutives integers.\n",
            "WARNING: the Ys input coordinates are not consecutives integers.\n",
            "INFO: Recoding the input coordinates to consecutive integers.\n",
            "INFO: change <timelimit> to 14400.000000\n",
            "INFO: change <verbosity> to silent\n",
            "INFO: change <opt_tolerance> to 0.000001\n",
            "CompareOneToOne, Solution method: EXACT\n",
            "WARNING: the Xs input coordinates are not consecutives integers.\n",
            "WARNING: the Ys input coordinates are not consecutives integers.\n",
            "INFO: Recoding the input coordinates to consecutive integers.\n",
            "INFO: change <timelimit> to 14400.000000\n",
            "INFO: change <verbosity> to silent\n",
            "INFO: change <opt_tolerance> to 0.000001\n",
            "CompareOneToOne, Solution method: APPROX\n",
            "WARNING: the Xs input coordinates are not consecutives integers.\n",
            "WARNING: the Ys input coordinates are not consecutives integers.\n",
            "INFO: Recoding the input coordinates to consecutive integers.\n",
            "INFO: change <timelimit> to 14400.000000\n",
            "INFO: change <verbosity> to silent\n",
            "INFO: change <opt_tolerance> to 0.000001\n",
            "CompareOneToOne, Solution method: EXACT\n",
            "WARNING: the Xs input coordinates are not consecutives integers.\n",
            "WARNING: the Ys input coordinates are not consecutives integers.\n",
            "INFO: Recoding the input coordinates to consecutive integers.\n",
            "INFO: change <timelimit> to 14400.000000\n",
            "INFO: change <verbosity> to silent\n",
            "INFO: change <opt_tolerance> to 0.000001\n",
            "CompareOneToOne, Solution method: APPROX\n",
            "WARNING: the Xs input coordinates are not consecutives integers.\n",
            "WARNING: the Ys input coordinates are not consecutives integers.\n",
            "INFO: Recoding the input coordinates to consecutive integers.\n",
            "INFO: change <timelimit> to 14400.000000\n",
            "INFO: change <verbosity> to silent\n",
            "INFO: change <opt_tolerance> to 0.000001\n",
            "CompareOneToOne, Solution method: EXACT\n",
            "WARNING: the Xs input coordinates are not consecutives integers.\n",
            "WARNING: the Ys input coordinates are not consecutives integers.\n",
            "INFO: Recoding the input coordinates to consecutive integers.\n",
            "INFO: change <timelimit> to 14400.000000\n",
            "INFO: change <verbosity> to silent\n",
            "INFO: change <opt_tolerance> to 0.000001\n",
            "CompareOneToOne, Solution method: APPROX\n",
            "WARNING: the Xs input coordinates are not consecutives integers.\n",
            "WARNING: the Ys input coordinates are not consecutives integers.\n",
            "INFO: Recoding the input coordinates to consecutive integers.\n",
            "INFO: change <timelimit> to 14400.000000\n",
            "INFO: change <verbosity> to silent\n",
            "INFO: change <opt_tolerance> to 0.000001\n",
            "CompareOneToOne, Solution method: EXACT\n",
            "WARNING: the Xs input coordinates are not consecutives integers.\n",
            "WARNING: the Ys input coordinates are not consecutives integers.\n",
            "INFO: Recoding the input coordinates to consecutive integers.\n",
            "INFO: change <timelimit> to 14400.000000\n",
            "INFO: change <verbosity> to silent\n",
            "INFO: change <opt_tolerance> to 0.000001\n",
            "CompareOneToOne, Solution method: APPROX\n",
            "WARNING: the Xs input coordinates are not consecutives integers.\n",
            "WARNING: the Ys input coordinates are not consecutives integers.\n",
            "INFO: Recoding the input coordinates to consecutive integers.\n",
            "INFO: change <timelimit> to 14400.000000\n",
            "INFO: change <verbosity> to silent\n",
            "INFO: change <opt_tolerance> to 0.000001\n",
            "CompareOneToOne, Solution method: EXACT\n",
            "WARNING: the Xs input coordinates are not consecutives integers.\n",
            "WARNING: the Ys input coordinates are not consecutives integers.\n",
            "INFO: Recoding the input coordinates to consecutive integers.\n",
            "INFO: change <timelimit> to 14400.000000\n",
            "INFO: change <verbosity> to silent\n",
            "INFO: change <opt_tolerance> to 0.000001\n",
            "CompareOneToOne, Solution method: APPROX\n",
            "WARNING: the Xs input coordinates are not consecutives integers.\n",
            "WARNING: the Ys input coordinates are not consecutives integers.\n",
            "INFO: Recoding the input coordinates to consecutive integers.\n",
            "INFO: change <timelimit> to 14400.000000\n",
            "INFO: change <verbosity> to silent\n",
            "INFO: change <opt_tolerance> to 0.000001\n",
            "CompareOneToOne, Solution method: EXACT\n",
            "WARNING: the Xs input coordinates are not consecutives integers.\n",
            "WARNING: the Ys input coordinates are not consecutives integers.\n",
            "INFO: Recoding the input coordinates to consecutive integers.\n",
            "INFO: change <timelimit> to 14400.000000\n",
            "INFO: change <verbosity> to silent\n",
            "INFO: change <opt_tolerance> to 0.000001\n",
            "CompareOneToOne, Solution method: APPROX\n",
            "WARNING: the Xs input coordinates are not consecutives integers.\n",
            "WARNING: the Ys input coordinates are not consecutives integers.\n",
            "INFO: Recoding the input coordinates to consecutive integers.\n",
            "INFO: change <timelimit> to 14400.000000\n",
            "INFO: change <verbosity> to silent\n",
            "INFO: change <opt_tolerance> to 0.000001\n",
            "CompareOneToOne, Solution method: EXACT\n",
            "WARNING: the Xs input coordinates are not consecutives integers.\n",
            "WARNING: the Ys input coordinates are not consecutives integers.\n",
            "INFO: Recoding the input coordinates to consecutive integers.\n",
            "INFO: change <timelimit> to 14400.000000\n",
            "INFO: change <verbosity> to silent\n",
            "INFO: change <opt_tolerance> to 0.000001\n",
            "CompareOneToOne, Solution method: APPROX\n",
            "WARNING: the Xs input coordinates are not consecutives integers.\n",
            "WARNING: the Ys input coordinates are not consecutives integers.\n",
            "INFO: Recoding the input coordinates to consecutive integers.\n",
            "INFO: change <timelimit> to 14400.000000\n",
            "INFO: change <verbosity> to silent\n",
            "INFO: change <opt_tolerance> to 0.000001\n",
            "CompareOneToOne, Solution method: EXACT\n",
            "WARNING: the Xs input coordinates are not consecutives integers.\n",
            "WARNING: the Ys input coordinates are not consecutives integers.\n",
            "INFO: Recoding the input coordinates to consecutive integers.\n",
            "INFO: change <timelimit> to 14400.000000\n",
            "INFO: change <verbosity> to silent\n",
            "INFO: change <opt_tolerance> to 0.000001\n",
            "CompareOneToOne, Solution method: APPROX\n",
            "WARNING: the Xs input coordinates are not consecutives integers.\n",
            "WARNING: the Ys input coordinates are not consecutives integers.\n",
            "INFO: Recoding the input coordinates to consecutive integers.\n",
            "INFO: change <timelimit> to 14400.000000\n",
            "INFO: change <verbosity> to silent\n",
            "INFO: change <opt_tolerance> to 0.000001\n",
            "CompareOneToOne, Solution method: EXACT\n",
            "WARNING: the Xs input coordinates are not consecutives integers.\n",
            "WARNING: the Ys input coordinates are not consecutives integers.\n",
            "INFO: Recoding the input coordinates to consecutive integers.\n",
            "INFO: change <timelimit> to 14400.000000\n",
            "INFO: change <verbosity> to silent\n",
            "INFO: change <opt_tolerance> to 0.000001\n",
            "CompareOneToOne, Solution method: APPROX\n",
            "WARNING: the Xs input coordinates are not consecutives integers.\n",
            "WARNING: the Ys input coordinates are not consecutives integers.\n",
            "INFO: Recoding the input coordinates to consecutive integers.\n",
            "INFO: change <timelimit> to 14400.000000\n",
            "INFO: change <verbosity> to silent\n",
            "INFO: change <opt_tolerance> to 0.000001\n",
            "CompareOneToOne, Solution method: EXACT\n",
            "WARNING: the Xs input coordinates are not consecutives integers.\n",
            "WARNING: the Ys input coordinates are not consecutives integers.\n",
            "INFO: Recoding the input coordinates to consecutive integers.\n",
            "INFO: change <timelimit> to 14400.000000\n",
            "INFO: change <verbosity> to silent\n",
            "INFO: change <opt_tolerance> to 0.000001\n",
            "CompareOneToOne, Solution method: APPROX\n",
            "WARNING: the Xs input coordinates are not consecutives integers.\n",
            "WARNING: the Ys input coordinates are not consecutives integers.\n",
            "INFO: Recoding the input coordinates to consecutive integers.\n",
            "INFO: change <timelimit> to 14400.000000\n",
            "INFO: change <verbosity> to silent\n",
            "INFO: change <opt_tolerance> to 0.000001\n",
            "CompareOneToOne, Solution method: EXACT\n",
            "WARNING: the Xs input coordinates are not consecutives integers.\n",
            "WARNING: the Ys input coordinates are not consecutives integers.\n",
            "INFO: Recoding the input coordinates to consecutive integers.\n",
            "INFO: change <timelimit> to 14400.000000\n",
            "INFO: change <verbosity> to silent\n",
            "INFO: change <opt_tolerance> to 0.000001\n",
            "CompareOneToOne, Solution method: APPROX\n",
            "WARNING: the Xs input coordinates are not consecutives integers.\n",
            "WARNING: the Ys input coordinates are not consecutives integers.\n",
            "INFO: Recoding the input coordinates to consecutive integers.\n",
            "INFO: change <timelimit> to 14400.000000\n",
            "INFO: change <verbosity> to silent\n",
            "INFO: change <opt_tolerance> to 0.000001\n",
            "CompareOneToOne, Solution method: EXACT\n",
            "WARNING: the Xs input coordinates are not consecutives integers.\n",
            "WARNING: the Ys input coordinates are not consecutives integers.\n",
            "INFO: Recoding the input coordinates to consecutive integers.\n",
            "INFO: change <timelimit> to 14400.000000\n",
            "INFO: change <verbosity> to silent\n",
            "INFO: change <opt_tolerance> to 0.000001\n",
            "CompareOneToOne, Solution method: APPROX\n",
            "WARNING: the Xs input coordinates are not consecutives integers.\n",
            "WARNING: the Ys input coordinates are not consecutives integers.\n",
            "INFO: Recoding the input coordinates to consecutive integers.\n",
            "INFO: change <timelimit> to 14400.000000\n",
            "INFO: change <verbosity> to silent\n",
            "INFO: change <opt_tolerance> to 0.000001\n"
          ]
        }
      ]
    },
    {
      "cell_type": "code",
      "source": [
        "library(ggplot2)\n",
        "res_test5 %>%\n",
        "  ggplot() +\n",
        "  geom_path(aes(x=x,y=dist_exact_mean))"
      ],
      "metadata": {
        "id": "Mf8AlpOSeks0",
        "outputId": "d0902baf-6603-4e27-932a-c2bb8b5fde06",
        "colab": {
          "base_uri": "https://localhost:8080/",
          "height": 437
        }
      },
      "execution_count": 20,
      "outputs": [
        {
          "output_type": "display_data",
          "data": {
            "text/plain": [
              "plot without title"
            ],
            "image/png": "[encoded data removed]"
          },
          "metadata": {
            "image/png": {
              "width": 420,
              "height": 420
            }
          }
        }
      ]
    },
    {
      "cell_type": "markdown",
      "source": [
        "=> maybe standardize the weigths is more efficient"
      ],
      "metadata": {
        "id": "5wW97dCKfQKl"
      }
    },
    {
      "cell_type": "code",
      "source": [
        "d_approx10"
      ],
      "metadata": {
        "id": "NhfxmdXEPxge",
        "outputId": "f4943dbb-bbed-4aa5-a103-55b5633f38c7",
        "colab": {
          "base_uri": "https://localhost:8080/",
          "height": 253
        }
      },
      "execution_count": 18,
      "outputs": [
        {
          "output_type": "display_data",
          "data": {
            "text/html": [
              "<dl>\n",
              "\t<dt>$distance</dt>\n",
              "\t\t<dd>0</dd>\n",
              "\t<dt>$runtime</dt>\n",
              "\t\t<dd>0.002</dd>\n",
              "\t<dt>$iterations</dt>\n",
              "\t\t<dd>0</dd>\n",
              "\t<dt>$nodes</dt>\n",
              "\t\t<dd>956</dd>\n",
              "\t<dt>$arcs</dt>\n",
              "\t\t<dd>0</dd>\n",
              "\t<dt>$status</dt>\n",
              "\t\t<dd>'Optimal'</dd>\n",
              "</dl>\n"
            ],
            "text/markdown": "$distance\n:   0\n$runtime\n:   0.002\n$iterations\n:   0\n$nodes\n:   956\n$arcs\n:   0\n$status\n:   'Optimal'\n\n\n",
            "text/latex": "\\begin{description}\n\\item[\\$distance] 0\n\\item[\\$runtime] 0.002\n\\item[\\$iterations] 0\n\\item[\\$nodes] 956\n\\item[\\$arcs] 0\n\\item[\\$status] 'Optimal'\n\\end{description}\n",
            "text/plain": [
              "$distance\n",
              "[1] 0\n",
              "\n",
              "$runtime\n",
              "[1] 0.002\n",
              "\n",
              "$iterations\n",
              "[1] 0\n",
              "\n",
              "$nodes\n",
              "[1] 956\n",
              "\n",
              "$arcs\n",
              "[1] 0\n",
              "\n",
              "$status\n",
              "[1] \"Optimal\"\n"
            ]
          },
          "metadata": {}
        }
      ]
    },
    {
      "cell_type": "markdown",
      "metadata": {
        "id": "s3aCOet_QThn"
      },
      "source": [
        "### Feedback\n",
        "Please, for any comments, contact the author of the Spatial-KWD library.\n",
        "\n",
        "### References\n",
        "\n",
        "[1] Bassetti F., Gualandi S., Veneroni M. (2018): [**On the computation of Kantorovich-Wasserstein distances between 2D-histograms by uncapacitated minimum cost flows**](https://epubs.siam.org/doi/abs/10.1137/19M1261195). SIAM J. Optim., 30(3), 2441–2469, 2020. Preprint on arXiv: [1804.00445](https://arxiv.org/abs/1804.00445)."
      ]
    }
  ]
}